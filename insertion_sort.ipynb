{
  "nbformat": 4,
  "nbformat_minor": 0,
  "metadata": {
    "colab": {
      "name": "insertion sort.ipynb",
      "provenance": [],
      "authorship_tag": "ABX9TyN7Vy4TbgLt50fxeuVVNcAV",
      "include_colab_link": true
    },
    "kernelspec": {
      "name": "python3",
      "display_name": "Python 3"
    }
  },
  "cells": [
    {
      "cell_type": "markdown",
      "metadata": {
        "id": "view-in-github",
        "colab_type": "text"
      },
      "source": [
        "<a href=\"https://colab.research.google.com/github/akhich551995/Data-Structutres/blob/main/insertion_sort.ipynb\" target=\"_parent\"><img src=\"https://colab.research.google.com/assets/colab-badge.svg\" alt=\"Open In Colab\"/></a>"
      ]
    },
    {
      "cell_type": "markdown",
      "metadata": {
        "id": "eeIU8GQw4NwF"
      },
      "source": [
        "##Insertion sort function\n"
      ]
    },
    {
      "cell_type": "code",
      "metadata": {
        "id": "xvdgZIIh4ZSq"
      },
      "source": [
        "def insertionsort(arr):\n",
        "  for j in range(1,len(arr)):\n",
        "    key=arr[j]\n",
        "    i=j-1\n",
        "    while i>=0 and key<arr[i]:\n",
        "      arr[i+1]=arr[i]\n",
        "      i -=1\n",
        "    arr[i+1]=key\n",
        "  print(arr)"
      ],
      "execution_count": 15,
      "outputs": []
    },
    {
      "cell_type": "code",
      "metadata": {
        "id": "z8XqxCuR53RB",
        "outputId": "1fcbc8eb-0c05-4da1-a6ae-6e4f249dda57",
        "colab": {
          "base_uri": "https://localhost:8080/"
        }
      },
      "source": [
        "a=[1,3,2,4,-1,100,61,-3.5,-3.9]\n",
        "\n",
        "insertionsort(a)"
      ],
      "execution_count": 17,
      "outputs": [
        {
          "output_type": "stream",
          "text": [
            "[-3.9, -3.5, -1, 1, 2, 3, 4, 61, 100]\n"
          ],
          "name": "stdout"
        }
      ]
    }
  ]
}